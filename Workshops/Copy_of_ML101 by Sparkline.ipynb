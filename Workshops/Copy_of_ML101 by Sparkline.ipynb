{
  "nbformat": 4,
  "nbformat_minor": 0,
  "metadata": {
    "colab": {
      "name": "Copy of ML101.ipynb",
      "provenance": [],
      "collapsed_sections": []
    },
    "kernelspec": {
      "name": "python3",
      "display_name": "Python 3"
    }
  },
  "cells": [
    {
      "cell_type": "code",
      "metadata": {
        "id": "Z8wnh3E48_qy",
        "colab": {
          "base_uri": "https://localhost:8080/",
          "height": 265
        },
        "outputId": "cbad2661-5446-4737-8d26-49501318c745"
      },
      "source": [
        "import numpy as np\n",
        "import matplotlib.pyplot as plt\n",
        "\n",
        "X = 2*np.random.rand(100,1)\n",
        "y = 4+ 3 * X + np.random.randn(100,1)\n",
        "\n",
        "plt.plot(X,y, \"b.\")\n",
        "plt.show()"
      ],
      "execution_count": 1,
      "outputs": [
        {
          "output_type": "display_data",
          "data": {
            "image/png": "[encoded data removed]",
            "text/plain": [
              "<Figure size 432x288 with 1 Axes>"
            ]
          },
          "metadata": {
            "tags": [],
            "needs_background": "light"
          }
        }
      ]
    },
    {
      "cell_type": "code",
      "metadata": {
        "id": "Y3E-u5XXBipA",
        "colab": {
          "base_uri": "https://localhost:8080/"
        },
        "outputId": "f2ed2dbf-d79a-4f68-b9f1-8c09b6e2b92e"
      },
      "source": [
        "#Using the normal equation, writing Linear Regression from scratch\n",
        "X_b = np.c_[np.ones((100,1)), X]\n",
        "np.linalg.inv(X_b.T.dot(X_b)).dot(X_b.T).dot(y)"
      ],
      "execution_count": 2,
      "outputs": [
        {
          "output_type": "execute_result",
          "data": {
            "text/plain": [
              "array([[3.92596947],\n",
              "       [3.03853764]])"
            ]
          },
          "metadata": {
            "tags": []
          },
          "execution_count": 2
        }
      ]
    },
    {
      "cell_type": "code",
      "metadata": {
        "id": "cz-3OEfR-DoS",
        "colab": {
          "base_uri": "https://localhost:8080/"
        },
        "outputId": "4373f8f1-5792-4fb5-bab9-293b52f7f533"
      },
      "source": [
        "#Using a Library method (Pre written)\n",
        "from sklearn.linear_model import LinearRegression\n",
        "\n",
        "\n",
        "lin_reg = LinearRegression()\n",
        "lin_reg.fit(X,y)\n",
        "lin_reg.intercept_, lin_reg.coef_"
      ],
      "execution_count": 5,
      "outputs": [
        {
          "output_type": "execute_result",
          "data": {
            "text/plain": [
              "(array([3.92596947]), array([[3.03853764]]))"
            ]
          },
          "metadata": {
            "tags": []
          },
          "execution_count": 5
        }
      ]
    },
    {
      "cell_type": "code",
      "metadata": {
        "id": "xUi-YY3x-Gm-",
        "colab": {
          "base_uri": "https://localhost:8080/"
        },
        "outputId": "6b8dc1d6-a263-4081-c231-21aa71d1b327"
      },
      "source": [
        "#Iterative gradient descent\n",
        "\n",
        "eta = 0.1 # learning rate\n",
        "n_iterations = 10000\n",
        "m=100\n",
        "theta = np.random.randn(2,1) # random initialization\n",
        "for iteration in range(n_iterations):\n",
        " gradients = 2/m * X_b.T.dot(X_b.dot(theta) - y)\n",
        " theta = theta - eta * gradients\n",
        "theta\n"
      ],
      "execution_count": 6,
      "outputs": [
        {
          "output_type": "execute_result",
          "data": {
            "text/plain": [
              "array([[3.92596947],\n",
              "       [3.03853764]])"
            ]
          },
          "metadata": {
            "tags": []
          },
          "execution_count": 6
        }
      ]
    },
    {
      "cell_type": "code",
      "metadata": {
        "id": "oZkTMZv9JVSz"
      },
      "source": [
        ""
      ],
      "execution_count": 6,
      "outputs": []
    }
  ]
}