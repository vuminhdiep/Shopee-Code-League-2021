{
  "nbformat": 4,
  "nbformat_minor": 0,
  "metadata": {
    "colab": {
      "name": "Copy of LCCL Array Experiments.ipynb",
      "provenance": [],
      "collapsed_sections": []
    },
    "kernelspec": {
      "name": "python3",
      "display_name": "Python 3"
    }
  },
  "cells": [
    {
      "cell_type": "markdown",
      "metadata": {
        "id": "yvzBPYiEDYcr"
      },
      "source": [
        "# Array Experiments"
      ]
    },
    {
      "cell_type": "code",
      "metadata": {
        "id": "1CtFcLyx5-tI"
      },
      "source": [
        ""
      ],
      "execution_count": null,
      "outputs": []
    },
    {
      "cell_type": "markdown",
      "metadata": {
        "id": "woqv7aDYDboD"
      },
      "source": [
        "Compare the time needed to remove from the back vs removing from the front vs removing from the middle for lists of length 10, 100, 1000, 10000."
      ]
    },
    {
      "cell_type": "code",
      "metadata": {
        "id": "hK13uZE6DWzZ",
        "colab": {
          "base_uri": "https://localhost:8080/"
        },
        "outputId": "96a52916-e5ea-42c1-fd69-fbf37c84c663"
      },
      "source": [
        "from timeit import repeat\n",
        "\n",
        "# Pop from front\n",
        "setup = '''\n",
        "n = 1000\n",
        "a = [0]*n\n",
        "'''\n",
        "\n",
        "code = '''\n",
        "a.pop(0)\n",
        "'''\n",
        "\n",
        "min(repeat(stmt=code, setup=setup, repeat=100, number=1))"
      ],
      "execution_count": null,
      "outputs": [
        {
          "output_type": "execute_result",
          "data": {
            "text/plain": [
              "4.3899999013774504e-07"
            ]
          },
          "metadata": {
            "tags": []
          },
          "execution_count": 1
        }
      ]
    },
    {
      "cell_type": "markdown",
      "metadata": {
        "id": "9JCctGl66B1v"
      },
      "source": [
        "# Stack Experiments"
      ]
    },
    {
      "cell_type": "markdown",
      "metadata": {
        "id": "VzoiYjws6Se5"
      },
      "source": [
        "https://open.kattis.com/problems/delimitersoup"
      ]
    },
    {
      "cell_type": "code",
      "metadata": {
        "id": "H3ZmuH-w6LPB"
      },
      "source": [
        "stack = []\r\n",
        "opening = {']': '[','}':'{',')':'('}\r\n",
        "for i, c in enumerate(sequence):\r\n",
        "  if c== ' ':\r\n",
        "    pass\r\n",
        "  elif c in opening.values(): #if open delim\r\n",
        "    stack.append(c)           #push to stack\r\n",
        "  #must be closing delim\r\n",
        "  elif len(stack) == 0 or opening[c] != stack[-1]:\r\n",
        "    #case where stack is empty or stack top doesnt match\r\n",
        "    print(c, i)\r\n",
        "    break\r\n",
        "  else:\r\n",
        "    #case where stack top matches\r\n",
        "    stack.pop()\r\n",
        "else:\r\n",
        "  print('ok so far')"
      ],
      "execution_count": null,
      "outputs": []
    },
    {
      "cell_type": "markdown",
      "metadata": {
        "id": "Yu4AjkJm7oLo"
      },
      "source": [
        "https://open.kattis.com/problems/lyklagangriti"
      ]
    },
    {
      "cell_type": "code",
      "metadata": {
        "id": "9U3EzHb17sLR"
      },
      "source": [
        "left, right = [], []\r\n",
        "for c in sequence:\r\n",
        "  if c == 'L':\r\n",
        "    right.append(left.pop())\r\n",
        "  elif c == 'R':\r\n",
        "    left.append(right.pop())\r\n",
        "  elif c == 'B':\r\n",
        "    left.pop()\r\n",
        "  else:\r\n",
        "    left.append(c)\r\n",
        "\r\n",
        "right.reverse()\r\n",
        "password = ''.join(left) + ''.join(right)\r\n",
        "  "
      ],
      "execution_count": null,
      "outputs": []
    }
  ]
}