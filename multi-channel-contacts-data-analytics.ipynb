{
 "cells": [
  {
   "cell_type": "code",
   "execution_count": 92,
   "metadata": {
    "id": "-jGStqO5dqFv"
   },
   "outputs": [],
   "source": [
    "import time\n",
    "\n",
    "# Start time\n",
    "t0 = time.time()"
   ]
  },
  {
   "cell_type": "code",
   "execution_count": 93,
   "metadata": {
    "id": "nyXraoB5HxQB"
   },
   "outputs": [],
   "source": [
    "import pandas as pd\n",
    "import numpy as np\n",
    "\n",
    "pd.set_option('max_rows', 999)\n",
    "pd.set_option('max_columns', 999)\n",
    "\n",
    "import warnings\n",
    "warnings.filterwarnings('ignore')"
   ]
  },
  {
   "cell_type": "code",
   "execution_count": 94,
   "metadata": {
    "id": "3PEt_SsIH4dl"
   },
   "outputs": [],
   "source": [
    "df = pd.read_json('Data Analytics/contacts.json')"
   ]
  },
  {
   "cell_type": "code",
   "execution_count": 95,
   "metadata": {
    "id": "6z3-8KqcH5Qs",
    "outputId": "36594605-c089-48dc-d846-de15f141a30a"
   },
   "outputs": [
    {
     "data": {
      "text/html": [
       "<div>\n",
       "<style scoped>\n",
       "    .dataframe tbody tr th:only-of-type {\n",
       "        vertical-align: middle;\n",
       "    }\n",
       "\n",
       "    .dataframe tbody tr th {\n",
       "        vertical-align: top;\n",
       "    }\n",
       "\n",
       "    .dataframe thead th {\n",
       "        text-align: right;\n",
       "    }\n",
       "</style>\n",
       "<table border=\"1\" class=\"dataframe\">\n",
       "  <thead>\n",
       "    <tr style=\"text-align: right;\">\n",
       "      <th></th>\n",
       "      <th>Id</th>\n",
       "      <th>Email</th>\n",
       "      <th>Phone</th>\n",
       "      <th>Contacts</th>\n",
       "      <th>OrderId</th>\n",
       "    </tr>\n",
       "  </thead>\n",
       "  <tbody>\n",
       "    <tr>\n",
       "      <th>0</th>\n",
       "      <td>0</td>\n",
       "      <td>gkzAbIy@qq.com</td>\n",
       "      <td></td>\n",
       "      <td>1</td>\n",
       "      <td></td>\n",
       "    </tr>\n",
       "    <tr>\n",
       "      <th>1</th>\n",
       "      <td>1</td>\n",
       "      <td></td>\n",
       "      <td>329442681752</td>\n",
       "      <td>4</td>\n",
       "      <td>vDDJJcxfLtSfkooPhbYnJdxov</td>\n",
       "    </tr>\n",
       "    <tr>\n",
       "      <th>2</th>\n",
       "      <td>2</td>\n",
       "      <td></td>\n",
       "      <td>9125983679</td>\n",
       "      <td>0</td>\n",
       "      <td></td>\n",
       "    </tr>\n",
       "    <tr>\n",
       "      <th>3</th>\n",
       "      <td>3</td>\n",
       "      <td>mdllpYmE@gmail.com</td>\n",
       "      <td></td>\n",
       "      <td>0</td>\n",
       "      <td>bHquEnCbbsGLqllwryxPsNOxa</td>\n",
       "    </tr>\n",
       "    <tr>\n",
       "      <th>4</th>\n",
       "      <td>4</td>\n",
       "      <td></td>\n",
       "      <td>300364407</td>\n",
       "      <td>2</td>\n",
       "      <td></td>\n",
       "    </tr>\n",
       "  </tbody>\n",
       "</table>\n",
       "</div>"
      ],
      "text/plain": [
       "   Id               Email         Phone  Contacts                    OrderId\n",
       "0   0      gkzAbIy@qq.com                       1                           \n",
       "1   1                      329442681752         4  vDDJJcxfLtSfkooPhbYnJdxov\n",
       "2   2                        9125983679         0                           \n",
       "3   3  mdllpYmE@gmail.com                       0  bHquEnCbbsGLqllwryxPsNOxa\n",
       "4   4                         300364407         2                           "
      ]
     },
     "execution_count": 95,
     "metadata": {},
     "output_type": "execute_result"
    }
   ],
   "source": [
    "df.head()"
   ]
  },
  {
   "cell_type": "code",
   "execution_count": 96,
   "metadata": {
    "id": "xixwtW96IE0P"
   },
   "outputs": [],
   "source": [
    "df['Id'] = df['Id'].astype(str)"
   ]
  },
  {
   "cell_type": "markdown",
   "metadata": {
    "id": "z_Ses8UsH83X"
   },
   "source": [
    "# Grouping by same Email/Phone/OrderId"
   ]
  },
  {
   "cell_type": "markdown",
   "metadata": {
    "id": "y--KEEKmLQDv"
   },
   "source": [
    "## Create Function"
   ]
  },
  {
   "cell_type": "code",
   "execution_count": 97,
   "metadata": {
    "id": "77SMB2V9KT39"
   },
   "outputs": [],
   "source": [
    "def group_by_col(col):\n",
    "    grouped = df.copy()\n",
    "    \n",
    "    # Change row with whitespace to NaN then drop them\n",
    "    grouped[col] = grouped[col].apply(lambda x: np.NaN if x == '' else x)\n",
    "    grouped = grouped.dropna()\n",
    "    \n",
    "    # Get data with duplicated col only\n",
    "    grouped = grouped[grouped.duplicated([col], keep=False)]\n",
    "    \n",
    "    # Groupby same col and combine the Id\n",
    "    grouped = grouped.groupby(col)['Id'].apply(lambda x: ' '.join(x)).to_frame().reset_index()\n",
    "    return grouped"
   ]
  },
  {
   "cell_type": "code",
   "execution_count": 98,
   "metadata": {
    "id": "Z0pgCoM3Lrwv",
    "outputId": "33003cc0-c961-4229-a649-97e6254a9228"
   },
   "outputs": [
    {
     "data": {
      "text/html": [
       "<div>\n",
       "<style scoped>\n",
       "    .dataframe tbody tr th:only-of-type {\n",
       "        vertical-align: middle;\n",
       "    }\n",
       "\n",
       "    .dataframe tbody tr th {\n",
       "        vertical-align: top;\n",
       "    }\n",
       "\n",
       "    .dataframe thead th {\n",
       "        text-align: right;\n",
       "    }\n",
       "</style>\n",
       "<table border=\"1\" class=\"dataframe\">\n",
       "  <thead>\n",
       "    <tr style=\"text-align: right;\">\n",
       "      <th></th>\n",
       "      <th>Phone</th>\n",
       "      <th>Id</th>\n",
       "    </tr>\n",
       "  </thead>\n",
       "  <tbody>\n",
       "    <tr>\n",
       "      <th>0</th>\n",
       "      <td>0000211995</td>\n",
       "      <td>229812 265783</td>\n",
       "    </tr>\n",
       "    <tr>\n",
       "      <th>1</th>\n",
       "      <td>0000398025</td>\n",
       "      <td>95070 428624</td>\n",
       "    </tr>\n",
       "    <tr>\n",
       "      <th>2</th>\n",
       "      <td>000069388</td>\n",
       "      <td>142031 395090</td>\n",
       "    </tr>\n",
       "    <tr>\n",
       "      <th>3</th>\n",
       "      <td>000070496474</td>\n",
       "      <td>107760 296641</td>\n",
       "    </tr>\n",
       "    <tr>\n",
       "      <th>4</th>\n",
       "      <td>0000756335</td>\n",
       "      <td>139526 288114</td>\n",
       "    </tr>\n",
       "  </tbody>\n",
       "</table>\n",
       "</div>"
      ],
      "text/plain": [
       "          Phone             Id\n",
       "0    0000211995  229812 265783\n",
       "1    0000398025   95070 428624\n",
       "2     000069388  142031 395090\n",
       "3  000070496474  107760 296641\n",
       "4    0000756335  139526 288114"
      ]
     },
     "execution_count": 98,
     "metadata": {},
     "output_type": "execute_result"
    }
   ],
   "source": [
    "phone = group_by_col('Phone')\n",
    "phone.head()"
   ]
  },
  {
   "cell_type": "code",
   "execution_count": 99,
   "metadata": {
    "id": "WHqZtwgLLv1b",
    "outputId": "e4a743e8-0d58-4767-ec20-b5a57616c19f"
   },
   "outputs": [
    {
     "data": {
      "text/html": [
       "<div>\n",
       "<style scoped>\n",
       "    .dataframe tbody tr th:only-of-type {\n",
       "        vertical-align: middle;\n",
       "    }\n",
       "\n",
       "    .dataframe tbody tr th {\n",
       "        vertical-align: top;\n",
       "    }\n",
       "\n",
       "    .dataframe thead th {\n",
       "        text-align: right;\n",
       "    }\n",
       "</style>\n",
       "<table border=\"1\" class=\"dataframe\">\n",
       "  <thead>\n",
       "    <tr style=\"text-align: right;\">\n",
       "      <th></th>\n",
       "      <th>OrderId</th>\n",
       "      <th>Id</th>\n",
       "    </tr>\n",
       "  </thead>\n",
       "  <tbody>\n",
       "    <tr>\n",
       "      <th>0</th>\n",
       "      <td>AAHeDQwhQuenpHpFDtYbzhRtG</td>\n",
       "      <td>13086 35886</td>\n",
       "    </tr>\n",
       "    <tr>\n",
       "      <th>1</th>\n",
       "      <td>AAJYFqwdgWsaQjitbggfaqoNN</td>\n",
       "      <td>217525 222796 488624</td>\n",
       "    </tr>\n",
       "    <tr>\n",
       "      <th>2</th>\n",
       "      <td>AALCakLTXBzGFWkkPReVvzNCh</td>\n",
       "      <td>212727 361700 454292</td>\n",
       "    </tr>\n",
       "    <tr>\n",
       "      <th>3</th>\n",
       "      <td>AANGeFiGESRFtzgRLqnySbyvu</td>\n",
       "      <td>51827 255333</td>\n",
       "    </tr>\n",
       "    <tr>\n",
       "      <th>4</th>\n",
       "      <td>AAQkojNLBHeApFCQIKQOeccFs</td>\n",
       "      <td>338630 401880 436322</td>\n",
       "    </tr>\n",
       "  </tbody>\n",
       "</table>\n",
       "</div>"
      ],
      "text/plain": [
       "                     OrderId                    Id\n",
       "0  AAHeDQwhQuenpHpFDtYbzhRtG           13086 35886\n",
       "1  AAJYFqwdgWsaQjitbggfaqoNN  217525 222796 488624\n",
       "2  AALCakLTXBzGFWkkPReVvzNCh  212727 361700 454292\n",
       "3  AANGeFiGESRFtzgRLqnySbyvu          51827 255333\n",
       "4  AAQkojNLBHeApFCQIKQOeccFs  338630 401880 436322"
      ]
     },
     "execution_count": 99,
     "metadata": {},
     "output_type": "execute_result"
    }
   ],
   "source": [
    "order = group_by_col('OrderId')\n",
    "order.head()"
   ]
  },
  {
   "cell_type": "code",
   "execution_count": 100,
   "metadata": {},
   "outputs": [
    {
     "data": {
      "text/html": [
       "<div>\n",
       "<style scoped>\n",
       "    .dataframe tbody tr th:only-of-type {\n",
       "        vertical-align: middle;\n",
       "    }\n",
       "\n",
       "    .dataframe tbody tr th {\n",
       "        vertical-align: top;\n",
       "    }\n",
       "\n",
       "    .dataframe thead th {\n",
       "        text-align: right;\n",
       "    }\n",
       "</style>\n",
       "<table border=\"1\" class=\"dataframe\">\n",
       "  <thead>\n",
       "    <tr style=\"text-align: right;\">\n",
       "      <th></th>\n",
       "      <th>Email</th>\n",
       "      <th>Id</th>\n",
       "    </tr>\n",
       "  </thead>\n",
       "  <tbody>\n",
       "    <tr>\n",
       "      <th>0</th>\n",
       "      <td>AAAQbNfGbLAeOvw@hotmail.com</td>\n",
       "      <td>112387 470075</td>\n",
       "    </tr>\n",
       "    <tr>\n",
       "      <th>1</th>\n",
       "      <td>AADMsTZAxsOHvqnKjg@hotmail.com</td>\n",
       "      <td>19504 179125</td>\n",
       "    </tr>\n",
       "    <tr>\n",
       "      <th>2</th>\n",
       "      <td>AAJcFFDgfLHBkDrXoaDx@yahoo.com</td>\n",
       "      <td>20825 337532</td>\n",
       "    </tr>\n",
       "    <tr>\n",
       "      <th>3</th>\n",
       "      <td>AAOPaYMogBRr@gmail.com</td>\n",
       "      <td>221848 330517</td>\n",
       "    </tr>\n",
       "    <tr>\n",
       "      <th>4</th>\n",
       "      <td>AAPIPtjhTqBsjvnutTU@hotmail.com</td>\n",
       "      <td>254424 367012 390060</td>\n",
       "    </tr>\n",
       "  </tbody>\n",
       "</table>\n",
       "</div>"
      ],
      "text/plain": [
       "                             Email                    Id\n",
       "0      AAAQbNfGbLAeOvw@hotmail.com         112387 470075\n",
       "1   AADMsTZAxsOHvqnKjg@hotmail.com          19504 179125\n",
       "2   AAJcFFDgfLHBkDrXoaDx@yahoo.com          20825 337532\n",
       "3           AAOPaYMogBRr@gmail.com         221848 330517\n",
       "4  AAPIPtjhTqBsjvnutTU@hotmail.com  254424 367012 390060"
      ]
     },
     "execution_count": 100,
     "metadata": {},
     "output_type": "execute_result"
    }
   ],
   "source": [
    "email = group_by_col('Email')\n",
    "email.head()"
   ]
  },
  {
   "cell_type": "markdown",
   "metadata": {
    "id": "iS2CKdcEMMTQ"
   },
   "source": [
    "## Merge the Grouped Columns"
   ]
  },
  {
   "cell_type": "code",
   "execution_count": 101,
   "metadata": {
    "id": "LnwqYhxMMUqd",
    "outputId": "b8b12a1d-b77e-4c4a-b3cb-3b08279bc1a7"
   },
   "outputs": [
    {
     "data": {
      "text/html": [
       "<div>\n",
       "<style scoped>\n",
       "    .dataframe tbody tr th:only-of-type {\n",
       "        vertical-align: middle;\n",
       "    }\n",
       "\n",
       "    .dataframe tbody tr th {\n",
       "        vertical-align: top;\n",
       "    }\n",
       "\n",
       "    .dataframe thead th {\n",
       "        text-align: right;\n",
       "    }\n",
       "</style>\n",
       "<table border=\"1\" class=\"dataframe\">\n",
       "  <thead>\n",
       "    <tr style=\"text-align: right;\">\n",
       "      <th></th>\n",
       "      <th>Id_x</th>\n",
       "      <th>Email</th>\n",
       "      <th>Phone</th>\n",
       "      <th>Contacts</th>\n",
       "      <th>OrderId</th>\n",
       "      <th>Id_y</th>\n",
       "    </tr>\n",
       "  </thead>\n",
       "  <tbody>\n",
       "    <tr>\n",
       "      <th>0</th>\n",
       "      <td>0</td>\n",
       "      <td>gkzAbIy@qq.com</td>\n",
       "      <td></td>\n",
       "      <td>1</td>\n",
       "      <td></td>\n",
       "      <td>NaN</td>\n",
       "    </tr>\n",
       "    <tr>\n",
       "      <th>1</th>\n",
       "      <td>1</td>\n",
       "      <td></td>\n",
       "      <td>329442681752</td>\n",
       "      <td>4</td>\n",
       "      <td>vDDJJcxfLtSfkooPhbYnJdxov</td>\n",
       "      <td>NaN</td>\n",
       "    </tr>\n",
       "    <tr>\n",
       "      <th>2</th>\n",
       "      <td>2</td>\n",
       "      <td></td>\n",
       "      <td>9125983679</td>\n",
       "      <td>0</td>\n",
       "      <td></td>\n",
       "      <td>NaN</td>\n",
       "    </tr>\n",
       "    <tr>\n",
       "      <th>3</th>\n",
       "      <td>3</td>\n",
       "      <td>mdllpYmE@gmail.com</td>\n",
       "      <td></td>\n",
       "      <td>0</td>\n",
       "      <td>bHquEnCbbsGLqllwryxPsNOxa</td>\n",
       "      <td>NaN</td>\n",
       "    </tr>\n",
       "    <tr>\n",
       "      <th>4</th>\n",
       "      <td>4</td>\n",
       "      <td></td>\n",
       "      <td>300364407</td>\n",
       "      <td>2</td>\n",
       "      <td></td>\n",
       "      <td>NaN</td>\n",
       "    </tr>\n",
       "  </tbody>\n",
       "</table>\n",
       "</div>"
      ],
      "text/plain": [
       "  Id_x               Email         Phone  Contacts                    OrderId  \\\n",
       "0    0      gkzAbIy@qq.com                       1                              \n",
       "1    1                      329442681752         4  vDDJJcxfLtSfkooPhbYnJdxov   \n",
       "2    2                        9125983679         0                              \n",
       "3    3  mdllpYmE@gmail.com                       0  bHquEnCbbsGLqllwryxPsNOxa   \n",
       "4    4                         300364407         2                              \n",
       "\n",
       "  Id_y  \n",
       "0  NaN  \n",
       "1  NaN  \n",
       "2  NaN  \n",
       "3  NaN  \n",
       "4  NaN  "
      ]
     },
     "execution_count": 101,
     "metadata": {},
     "output_type": "execute_result"
    }
   ],
   "source": [
    "merged_df = df.merge(email, how='left', on='Email')\n",
    "merged_df.head()"
   ]
  },
  {
   "cell_type": "code",
   "execution_count": 102,
   "metadata": {
    "id": "Duq2j3gNMaHK",
    "outputId": "27cd0232-774c-4d49-b00b-b9dceb5ab6d2"
   },
   "outputs": [
    {
     "data": {
      "text/html": [
       "<div>\n",
       "<style scoped>\n",
       "    .dataframe tbody tr th:only-of-type {\n",
       "        vertical-align: middle;\n",
       "    }\n",
       "\n",
       "    .dataframe tbody tr th {\n",
       "        vertical-align: top;\n",
       "    }\n",
       "\n",
       "    .dataframe thead th {\n",
       "        text-align: right;\n",
       "    }\n",
       "</style>\n",
       "<table border=\"1\" class=\"dataframe\">\n",
       "  <thead>\n",
       "    <tr style=\"text-align: right;\">\n",
       "      <th></th>\n",
       "      <th>Id</th>\n",
       "      <th>Email</th>\n",
       "      <th>Phone</th>\n",
       "      <th>Contacts</th>\n",
       "      <th>OrderId</th>\n",
       "      <th>combined_email</th>\n",
       "    </tr>\n",
       "  </thead>\n",
       "  <tbody>\n",
       "    <tr>\n",
       "      <th>0</th>\n",
       "      <td>0</td>\n",
       "      <td>gkzAbIy@qq.com</td>\n",
       "      <td></td>\n",
       "      <td>1</td>\n",
       "      <td></td>\n",
       "      <td>NaN</td>\n",
       "    </tr>\n",
       "    <tr>\n",
       "      <th>1</th>\n",
       "      <td>1</td>\n",
       "      <td></td>\n",
       "      <td>329442681752</td>\n",
       "      <td>4</td>\n",
       "      <td>vDDJJcxfLtSfkooPhbYnJdxov</td>\n",
       "      <td>NaN</td>\n",
       "    </tr>\n",
       "    <tr>\n",
       "      <th>2</th>\n",
       "      <td>2</td>\n",
       "      <td></td>\n",
       "      <td>9125983679</td>\n",
       "      <td>0</td>\n",
       "      <td></td>\n",
       "      <td>NaN</td>\n",
       "    </tr>\n",
       "    <tr>\n",
       "      <th>3</th>\n",
       "      <td>3</td>\n",
       "      <td>mdllpYmE@gmail.com</td>\n",
       "      <td></td>\n",
       "      <td>0</td>\n",
       "      <td>bHquEnCbbsGLqllwryxPsNOxa</td>\n",
       "      <td>NaN</td>\n",
       "    </tr>\n",
       "    <tr>\n",
       "      <th>4</th>\n",
       "      <td>4</td>\n",
       "      <td></td>\n",
       "      <td>300364407</td>\n",
       "      <td>2</td>\n",
       "      <td></td>\n",
       "      <td>NaN</td>\n",
       "    </tr>\n",
       "    <tr>\n",
       "      <th>5</th>\n",
       "      <td>5</td>\n",
       "      <td></td>\n",
       "      <td>840113148</td>\n",
       "      <td>0</td>\n",
       "      <td></td>\n",
       "      <td>NaN</td>\n",
       "    </tr>\n",
       "    <tr>\n",
       "      <th>6</th>\n",
       "      <td>6</td>\n",
       "      <td>hESiBgYTxMnj@hotmail.com</td>\n",
       "      <td></td>\n",
       "      <td>4</td>\n",
       "      <td></td>\n",
       "      <td>6 38 32871 142067</td>\n",
       "    </tr>\n",
       "  </tbody>\n",
       "</table>\n",
       "</div>"
      ],
      "text/plain": [
       "  Id                     Email         Phone  Contacts  \\\n",
       "0  0            gkzAbIy@qq.com                       1   \n",
       "1  1                            329442681752         4   \n",
       "2  2                              9125983679         0   \n",
       "3  3        mdllpYmE@gmail.com                       0   \n",
       "4  4                               300364407         2   \n",
       "5  5                               840113148         0   \n",
       "6  6  hESiBgYTxMnj@hotmail.com                       4   \n",
       "\n",
       "                     OrderId     combined_email  \n",
       "0                                           NaN  \n",
       "1  vDDJJcxfLtSfkooPhbYnJdxov                NaN  \n",
       "2                                           NaN  \n",
       "3  bHquEnCbbsGLqllwryxPsNOxa                NaN  \n",
       "4                                           NaN  \n",
       "5                                           NaN  \n",
       "6                             6 38 32871 142067  "
      ]
     },
     "execution_count": 102,
     "metadata": {},
     "output_type": "execute_result"
    }
   ],
   "source": [
    "merged_df = merged_df.rename(columns={\"Id_x\": \"Id\", \"Id_y\": \"combined_email\"})\n",
    "merged_df.head(7)"
   ]
  },
  {
   "cell_type": "code",
   "execution_count": 103,
   "metadata": {
    "id": "PE24gluxNbdT",
    "outputId": "a663be66-0c0e-4508-fe45-24f170c76e6d"
   },
   "outputs": [
    {
     "data": {
      "text/html": [
       "<div>\n",
       "<style scoped>\n",
       "    .dataframe tbody tr th:only-of-type {\n",
       "        vertical-align: middle;\n",
       "    }\n",
       "\n",
       "    .dataframe tbody tr th {\n",
       "        vertical-align: top;\n",
       "    }\n",
       "\n",
       "    .dataframe thead th {\n",
       "        text-align: right;\n",
       "    }\n",
       "</style>\n",
       "<table border=\"1\" class=\"dataframe\">\n",
       "  <thead>\n",
       "    <tr style=\"text-align: right;\">\n",
       "      <th></th>\n",
       "      <th>Id</th>\n",
       "      <th>Email</th>\n",
       "      <th>Phone</th>\n",
       "      <th>Contacts</th>\n",
       "      <th>OrderId</th>\n",
       "      <th>combined_email</th>\n",
       "      <th>combined_phone</th>\n",
       "      <th>combined_orderid</th>\n",
       "    </tr>\n",
       "  </thead>\n",
       "  <tbody>\n",
       "    <tr>\n",
       "      <th>0</th>\n",
       "      <td>0</td>\n",
       "      <td>gkzAbIy@qq.com</td>\n",
       "      <td></td>\n",
       "      <td>1</td>\n",
       "      <td></td>\n",
       "      <td></td>\n",
       "      <td></td>\n",
       "      <td></td>\n",
       "    </tr>\n",
       "    <tr>\n",
       "      <th>1</th>\n",
       "      <td>1</td>\n",
       "      <td></td>\n",
       "      <td>329442681752</td>\n",
       "      <td>4</td>\n",
       "      <td>vDDJJcxfLtSfkooPhbYnJdxov</td>\n",
       "      <td></td>\n",
       "      <td></td>\n",
       "      <td>1 2458 476346</td>\n",
       "    </tr>\n",
       "    <tr>\n",
       "      <th>2</th>\n",
       "      <td>2</td>\n",
       "      <td></td>\n",
       "      <td>9125983679</td>\n",
       "      <td>0</td>\n",
       "      <td></td>\n",
       "      <td></td>\n",
       "      <td>2 348955</td>\n",
       "      <td></td>\n",
       "    </tr>\n",
       "    <tr>\n",
       "      <th>3</th>\n",
       "      <td>3</td>\n",
       "      <td>mdllpYmE@gmail.com</td>\n",
       "      <td></td>\n",
       "      <td>0</td>\n",
       "      <td>bHquEnCbbsGLqllwryxPsNOxa</td>\n",
       "      <td></td>\n",
       "      <td></td>\n",
       "      <td></td>\n",
       "    </tr>\n",
       "    <tr>\n",
       "      <th>4</th>\n",
       "      <td>4</td>\n",
       "      <td></td>\n",
       "      <td>300364407</td>\n",
       "      <td>2</td>\n",
       "      <td></td>\n",
       "      <td></td>\n",
       "      <td></td>\n",
       "      <td></td>\n",
       "    </tr>\n",
       "    <tr>\n",
       "      <th>5</th>\n",
       "      <td>5</td>\n",
       "      <td></td>\n",
       "      <td>840113148</td>\n",
       "      <td>0</td>\n",
       "      <td></td>\n",
       "      <td></td>\n",
       "      <td>5 50</td>\n",
       "      <td></td>\n",
       "    </tr>\n",
       "    <tr>\n",
       "      <th>6</th>\n",
       "      <td>6</td>\n",
       "      <td>hESiBgYTxMnj@hotmail.com</td>\n",
       "      <td></td>\n",
       "      <td>4</td>\n",
       "      <td></td>\n",
       "      <td>6 38 32871 142067</td>\n",
       "      <td></td>\n",
       "      <td></td>\n",
       "    </tr>\n",
       "    <tr>\n",
       "      <th>7</th>\n",
       "      <td>7</td>\n",
       "      <td>hqyunTiaXfIjhO@yahoo.com</td>\n",
       "      <td></td>\n",
       "      <td>1</td>\n",
       "      <td>vxjYZtMUvNhtEBDruzQfjpsmX</td>\n",
       "      <td></td>\n",
       "      <td></td>\n",
       "      <td></td>\n",
       "    </tr>\n",
       "    <tr>\n",
       "      <th>8</th>\n",
       "      <td>8</td>\n",
       "      <td>XGUjcSiDpFKWEUCs@qq.com</td>\n",
       "      <td>223604620644</td>\n",
       "      <td>2</td>\n",
       "      <td></td>\n",
       "      <td></td>\n",
       "      <td>8 183160</td>\n",
       "      <td></td>\n",
       "    </tr>\n",
       "    <tr>\n",
       "      <th>9</th>\n",
       "      <td>9</td>\n",
       "      <td>osIIQgAiZX@hotmail.com</td>\n",
       "      <td></td>\n",
       "      <td>0</td>\n",
       "      <td>IqewrMXVTJqSsVklWFfOpdRNI</td>\n",
       "      <td></td>\n",
       "      <td></td>\n",
       "      <td>9 13 343161</td>\n",
       "    </tr>\n",
       "  </tbody>\n",
       "</table>\n",
       "</div>"
      ],
      "text/plain": [
       "  Id                     Email         Phone  Contacts  \\\n",
       "0  0            gkzAbIy@qq.com                       1   \n",
       "1  1                            329442681752         4   \n",
       "2  2                              9125983679         0   \n",
       "3  3        mdllpYmE@gmail.com                       0   \n",
       "4  4                               300364407         2   \n",
       "5  5                               840113148         0   \n",
       "6  6  hESiBgYTxMnj@hotmail.com                       4   \n",
       "7  7  hqyunTiaXfIjhO@yahoo.com                       1   \n",
       "8  8   XGUjcSiDpFKWEUCs@qq.com  223604620644         2   \n",
       "9  9    osIIQgAiZX@hotmail.com                       0   \n",
       "\n",
       "                     OrderId     combined_email combined_phone  \\\n",
       "0                                                                \n",
       "1  vDDJJcxfLtSfkooPhbYnJdxov                                     \n",
       "2                                                     2 348955   \n",
       "3  bHquEnCbbsGLqllwryxPsNOxa                                     \n",
       "4                                                                \n",
       "5                                                         5 50   \n",
       "6                             6 38 32871 142067                  \n",
       "7  vxjYZtMUvNhtEBDruzQfjpsmX                                     \n",
       "8                                                     8 183160   \n",
       "9  IqewrMXVTJqSsVklWFfOpdRNI                                     \n",
       "\n",
       "  combined_orderid  \n",
       "0                   \n",
       "1    1 2458 476346  \n",
       "2                   \n",
       "3                   \n",
       "4                   \n",
       "5                   \n",
       "6                   \n",
       "7                   \n",
       "8                   \n",
       "9      9 13 343161  "
      ]
     },
     "execution_count": 103,
     "metadata": {},
     "output_type": "execute_result"
    }
   ],
   "source": [
    "merged_df = merged_df.merge(phone, how='left', on='Phone')\n",
    "merged_df = merged_df.rename(columns={\"Id_x\": \"Id\", \"Id_y\": \"combined_phone\"})\n",
    "\n",
    "merged_df = merged_df.merge(order, how='left', on='OrderId')\n",
    "merged_df = merged_df.rename(columns={\"Id_x\": \"Id\", \"Id_y\": \"combined_orderid\"})\n",
    "\n",
    "# Replace NaN with empty string\n",
    "merged_df['combined_email'] = merged_df['combined_email'].fillna(\"\")\n",
    "merged_df['combined_phone'] = merged_df['combined_phone'].fillna(\"\")\n",
    "merged_df['combined_orderid'] = merged_df['combined_orderid'].fillna(\"\")\n",
    "\n",
    "merged_df.head(10)"
   ]
  },
  {
   "cell_type": "code",
   "execution_count": 104,
   "metadata": {
    "id": "Hy23fs2dO6WP",
    "outputId": "f1a09947-ae12-4d0a-e2ae-03e8f4601817"
   },
   "outputs": [
    {
     "data": {
      "text/html": [
       "<div>\n",
       "<style scoped>\n",
       "    .dataframe tbody tr th:only-of-type {\n",
       "        vertical-align: middle;\n",
       "    }\n",
       "\n",
       "    .dataframe tbody tr th {\n",
       "        vertical-align: top;\n",
       "    }\n",
       "\n",
       "    .dataframe thead th {\n",
       "        text-align: right;\n",
       "    }\n",
       "</style>\n",
       "<table border=\"1\" class=\"dataframe\">\n",
       "  <thead>\n",
       "    <tr style=\"text-align: right;\">\n",
       "      <th></th>\n",
       "      <th>Id</th>\n",
       "      <th>Contacts</th>\n",
       "      <th>duplicated_indexes</th>\n",
       "    </tr>\n",
       "  </thead>\n",
       "  <tbody>\n",
       "    <tr>\n",
       "      <th>0</th>\n",
       "      <td>0</td>\n",
       "      <td>1</td>\n",
       "      <td></td>\n",
       "    </tr>\n",
       "    <tr>\n",
       "      <th>1</th>\n",
       "      <td>1</td>\n",
       "      <td>4</td>\n",
       "      <td>1 2458 476346</td>\n",
       "    </tr>\n",
       "    <tr>\n",
       "      <th>2</th>\n",
       "      <td>2</td>\n",
       "      <td>0</td>\n",
       "      <td>2 348955</td>\n",
       "    </tr>\n",
       "    <tr>\n",
       "      <th>3</th>\n",
       "      <td>3</td>\n",
       "      <td>0</td>\n",
       "      <td></td>\n",
       "    </tr>\n",
       "    <tr>\n",
       "      <th>4</th>\n",
       "      <td>4</td>\n",
       "      <td>2</td>\n",
       "      <td></td>\n",
       "    </tr>\n",
       "    <tr>\n",
       "      <th>5</th>\n",
       "      <td>5</td>\n",
       "      <td>0</td>\n",
       "      <td>5 50</td>\n",
       "    </tr>\n",
       "    <tr>\n",
       "      <th>6</th>\n",
       "      <td>6</td>\n",
       "      <td>4</td>\n",
       "      <td>6 38 32871 142067</td>\n",
       "    </tr>\n",
       "  </tbody>\n",
       "</table>\n",
       "</div>"
      ],
      "text/plain": [
       "  Id  Contacts   duplicated_indexes\n",
       "0  0         1                     \n",
       "1  1         4        1 2458 476346\n",
       "2  2         0            2 348955 \n",
       "3  3         0                     \n",
       "4  4         2                     \n",
       "5  5         0                5 50 \n",
       "6  6         4  6 38 32871 142067  "
      ]
     },
     "execution_count": 104,
     "metadata": {},
     "output_type": "execute_result"
    }
   ],
   "source": [
    "merged_df['duplicated_indexes'] = merged_df['combined_email'] +  ' ' +  + merged_df['combined_phone'] +  ' ' +  + merged_df['combined_orderid'].fillna(\"\")\n",
    "merged_df = merged_df[['Id', 'Contacts', 'duplicated_indexes']]\n",
    "merged_df.head(7)"
   ]
  },
  {
   "cell_type": "code",
   "execution_count": 105,
   "metadata": {
    "id": "QgtObPosbPc_",
    "outputId": "f1e5f9a1-8234-4977-ac8e-51c83a204ac5"
   },
   "outputs": [
    {
     "data": {
      "text/plain": [
       "array(['  ', '  1 2458 476346', ' 2 348955 ', ...,\n",
       "       '142678 143516 499987 44161 499987 ', '  204097 499990',\n",
       "       '  184208 499994'], dtype=object)"
      ]
     },
     "execution_count": 105,
     "metadata": {},
     "output_type": "execute_result"
    }
   ],
   "source": [
    "merged_df['duplicated_indexes'].unique()"
   ]
  },
  {
   "cell_type": "markdown",
   "metadata": {
    "id": "n36XpuJrWHBZ"
   },
   "source": [
    "# Calculate Sum of Contacts"
   ]
  },
  {
   "cell_type": "markdown",
   "metadata": {
    "id": "TYQZYEXGWR8f"
   },
   "source": [
    "## Single Channel"
   ]
  },
  {
   "cell_type": "code",
   "execution_count": 106,
   "metadata": {},
   "outputs": [
    {
     "data": {
      "text/plain": [
       "array(['  ', '  1 2458 476346', ' 2 348955 ', ...,\n",
       "       '142678 143516 499987 44161 499987 ', '  204097 499990',\n",
       "       '  184208 499994'], dtype=object)"
      ]
     },
     "execution_count": 106,
     "metadata": {},
     "output_type": "execute_result"
    }
   ],
   "source": [
    "merged_df['duplicated_indexes'].unique()"
   ]
  },
  {
   "cell_type": "code",
   "execution_count": 107,
   "metadata": {
    "id": "2lIzt48CPU6j",
    "outputId": "40959101-498e-4f05-c0a4-dfe32f4153be"
   },
   "outputs": [
    {
     "name": "stdout",
     "output_type": "stream",
     "text": [
      "(195808, 3)\n"
     ]
    },
    {
     "data": {
      "text/html": [
       "<div>\n",
       "<style scoped>\n",
       "    .dataframe tbody tr th:only-of-type {\n",
       "        vertical-align: middle;\n",
       "    }\n",
       "\n",
       "    .dataframe tbody tr th {\n",
       "        vertical-align: top;\n",
       "    }\n",
       "\n",
       "    .dataframe thead th {\n",
       "        text-align: right;\n",
       "    }\n",
       "</style>\n",
       "<table border=\"1\" class=\"dataframe\">\n",
       "  <thead>\n",
       "    <tr style=\"text-align: right;\">\n",
       "      <th></th>\n",
       "      <th>Id</th>\n",
       "      <th>Contacts</th>\n",
       "      <th>duplicated_indexes</th>\n",
       "    </tr>\n",
       "  </thead>\n",
       "  <tbody>\n",
       "    <tr>\n",
       "      <th>0</th>\n",
       "      <td>0</td>\n",
       "      <td>1</td>\n",
       "      <td></td>\n",
       "    </tr>\n",
       "    <tr>\n",
       "      <th>3</th>\n",
       "      <td>3</td>\n",
       "      <td>0</td>\n",
       "      <td></td>\n",
       "    </tr>\n",
       "    <tr>\n",
       "      <th>4</th>\n",
       "      <td>4</td>\n",
       "      <td>2</td>\n",
       "      <td></td>\n",
       "    </tr>\n",
       "    <tr>\n",
       "      <th>7</th>\n",
       "      <td>7</td>\n",
       "      <td>1</td>\n",
       "      <td></td>\n",
       "    </tr>\n",
       "    <tr>\n",
       "      <th>16</th>\n",
       "      <td>16</td>\n",
       "      <td>0</td>\n",
       "      <td></td>\n",
       "    </tr>\n",
       "  </tbody>\n",
       "</table>\n",
       "</div>"
      ],
      "text/plain": [
       "    Id  Contacts duplicated_indexes\n",
       "0    0         1                   \n",
       "3    3         0                   \n",
       "4    4         2                   \n",
       "7    7         1                   \n",
       "16  16         0                   "
      ]
     },
     "execution_count": 107,
     "metadata": {},
     "output_type": "execute_result"
    }
   ],
   "source": [
    "single_channel = merged_df[merged_df['duplicated_indexes'] == '  ']\n",
    "print(single_channel.shape)\n",
    "single_channel.head()"
   ]
  },
  {
   "cell_type": "code",
   "execution_count": 108,
   "metadata": {
    "id": "mPVVTiFBWloa",
    "outputId": "3bbac5dc-eb70-4110-bd31-1a6aeddde978"
   },
   "outputs": [
    {
     "data": {
      "text/plain": [
       "Id                    object\n",
       "Contacts               int64\n",
       "duplicated_indexes    object\n",
       "dtype: object"
      ]
     },
     "execution_count": 108,
     "metadata": {},
     "output_type": "execute_result"
    }
   ],
   "source": [
    "single_channel.dtypes"
   ]
  },
  {
   "cell_type": "code",
   "execution_count": 109,
   "metadata": {
    "id": "Uazb1CSEWfL1",
    "outputId": "806256b1-e34d-440e-dc3c-47034c608cb1"
   },
   "outputs": [
    {
     "data": {
      "text/html": [
       "<div>\n",
       "<style scoped>\n",
       "    .dataframe tbody tr th:only-of-type {\n",
       "        vertical-align: middle;\n",
       "    }\n",
       "\n",
       "    .dataframe tbody tr th {\n",
       "        vertical-align: top;\n",
       "    }\n",
       "\n",
       "    .dataframe thead th {\n",
       "        text-align: right;\n",
       "    }\n",
       "</style>\n",
       "<table border=\"1\" class=\"dataframe\">\n",
       "  <thead>\n",
       "    <tr style=\"text-align: right;\">\n",
       "      <th></th>\n",
       "      <th>Id</th>\n",
       "      <th>trace</th>\n",
       "    </tr>\n",
       "  </thead>\n",
       "  <tbody>\n",
       "    <tr>\n",
       "      <th>0</th>\n",
       "      <td>0</td>\n",
       "      <td>0, 1</td>\n",
       "    </tr>\n",
       "    <tr>\n",
       "      <th>3</th>\n",
       "      <td>3</td>\n",
       "      <td>3, 0</td>\n",
       "    </tr>\n",
       "    <tr>\n",
       "      <th>4</th>\n",
       "      <td>4</td>\n",
       "      <td>4, 2</td>\n",
       "    </tr>\n",
       "    <tr>\n",
       "      <th>7</th>\n",
       "      <td>7</td>\n",
       "      <td>7, 1</td>\n",
       "    </tr>\n",
       "    <tr>\n",
       "      <th>16</th>\n",
       "      <td>16</td>\n",
       "      <td>16, 0</td>\n",
       "    </tr>\n",
       "  </tbody>\n",
       "</table>\n",
       "</div>"
      ],
      "text/plain": [
       "    Id  trace\n",
       "0    0   0, 1\n",
       "3    3   3, 0\n",
       "4    4   4, 2\n",
       "7    7   7, 1\n",
       "16  16  16, 0"
      ]
     },
     "execution_count": 109,
     "metadata": {},
     "output_type": "execute_result"
    }
   ],
   "source": [
    "single_channel['Contacts'] = single_channel['Contacts'].astype(str)\n",
    "single_channel['trace'] = single_channel['Id'] + ', ' + single_channel['Contacts']\n",
    "single_channel = single_channel[['Id', 'trace']]\n",
    "single_channel.head()"
   ]
  },
  {
   "cell_type": "markdown",
   "metadata": {
    "id": "cvjavaMBW5hw"
   },
   "source": [
    "## Multi Channels"
   ]
  },
  {
   "cell_type": "code",
   "execution_count": 110,
   "metadata": {
    "id": "95QVDmaUW4A7",
    "outputId": "105c1689-6c7c-403d-cb44-187d1c373566"
   },
   "outputs": [
    {
     "name": "stdout",
     "output_type": "stream",
     "text": [
      "(304192, 3)\n"
     ]
    },
    {
     "data": {
      "text/html": [
       "<div>\n",
       "<style scoped>\n",
       "    .dataframe tbody tr th:only-of-type {\n",
       "        vertical-align: middle;\n",
       "    }\n",
       "\n",
       "    .dataframe tbody tr th {\n",
       "        vertical-align: top;\n",
       "    }\n",
       "\n",
       "    .dataframe thead th {\n",
       "        text-align: right;\n",
       "    }\n",
       "</style>\n",
       "<table border=\"1\" class=\"dataframe\">\n",
       "  <thead>\n",
       "    <tr style=\"text-align: right;\">\n",
       "      <th></th>\n",
       "      <th>Id</th>\n",
       "      <th>Contacts</th>\n",
       "      <th>duplicated_indexes</th>\n",
       "    </tr>\n",
       "  </thead>\n",
       "  <tbody>\n",
       "    <tr>\n",
       "      <th>1</th>\n",
       "      <td>1</td>\n",
       "      <td>4</td>\n",
       "      <td>1 2458 476346</td>\n",
       "    </tr>\n",
       "    <tr>\n",
       "      <th>2</th>\n",
       "      <td>2</td>\n",
       "      <td>0</td>\n",
       "      <td>2 348955</td>\n",
       "    </tr>\n",
       "    <tr>\n",
       "      <th>5</th>\n",
       "      <td>5</td>\n",
       "      <td>0</td>\n",
       "      <td>5 50</td>\n",
       "    </tr>\n",
       "    <tr>\n",
       "      <th>6</th>\n",
       "      <td>6</td>\n",
       "      <td>4</td>\n",
       "      <td>6 38 32871 142067</td>\n",
       "    </tr>\n",
       "    <tr>\n",
       "      <th>8</th>\n",
       "      <td>8</td>\n",
       "      <td>2</td>\n",
       "      <td>8 183160</td>\n",
       "    </tr>\n",
       "    <tr>\n",
       "      <th>9</th>\n",
       "      <td>9</td>\n",
       "      <td>0</td>\n",
       "      <td>9 13 343161</td>\n",
       "    </tr>\n",
       "    <tr>\n",
       "      <th>10</th>\n",
       "      <td>10</td>\n",
       "      <td>3</td>\n",
       "      <td>10 93270</td>\n",
       "    </tr>\n",
       "    <tr>\n",
       "      <th>11</th>\n",
       "      <td>11</td>\n",
       "      <td>0</td>\n",
       "      <td>11 244207</td>\n",
       "    </tr>\n",
       "    <tr>\n",
       "      <th>12</th>\n",
       "      <td>12</td>\n",
       "      <td>2</td>\n",
       "      <td>12 480595</td>\n",
       "    </tr>\n",
       "    <tr>\n",
       "      <th>13</th>\n",
       "      <td>13</td>\n",
       "      <td>1</td>\n",
       "      <td>13 417916 13 16708 9 13 343161</td>\n",
       "    </tr>\n",
       "  </tbody>\n",
       "</table>\n",
       "</div>"
      ],
      "text/plain": [
       "    Id  Contacts              duplicated_indexes\n",
       "1    1         4                   1 2458 476346\n",
       "2    2         0                       2 348955 \n",
       "5    5         0                           5 50 \n",
       "6    6         4             6 38 32871 142067  \n",
       "8    8         2                       8 183160 \n",
       "9    9         0                     9 13 343161\n",
       "10  10         3                       10 93270 \n",
       "11  11         0                     11 244207  \n",
       "12  12         2                     12 480595  \n",
       "13  13         1  13 417916 13 16708 9 13 343161"
      ]
     },
     "execution_count": 110,
     "metadata": {},
     "output_type": "execute_result"
    }
   ],
   "source": [
    "multi_channel = merged_df[merged_df['duplicated_indexes'] != '  ']\n",
    "print(multi_channel.shape)\n",
    "multi_channel.head(10)"
   ]
  },
  {
   "cell_type": "markdown",
   "metadata": {
    "id": "x-Yhc4DYXIJQ"
   },
   "source": [
    "### Step by Step to Clean duplicated_indexes"
   ]
  },
  {
   "cell_type": "markdown",
   "metadata": {
    "id": "uoUwyBuJYJpn"
   },
   "source": [
    "### Function to Clean duplicated_indexes"
   ]
  },
  {
   "cell_type": "code",
   "execution_count": 111,
   "metadata": {
    "id": "2yXP56DXXxfb"
   },
   "outputs": [],
   "source": [
    "def clean_duplicated_indexes(x):\n",
    "    x = x.split()\n",
    "    x = list(map(int, x))\n",
    "    x = list(set(x))\n",
    "    x.sort()\n",
    "    x = list(map(str, x))\n",
    "    x = '-'.join((x))\n",
    "    return x"
   ]
  },
  {
   "cell_type": "code",
   "execution_count": 112,
   "metadata": {
    "id": "WQYac6vAYYPX",
    "outputId": "bf128bce-4fa7-449b-d209-03ff321b0c56"
   },
   "outputs": [
    {
     "data": {
      "text/html": [
       "<div>\n",
       "<style scoped>\n",
       "    .dataframe tbody tr th:only-of-type {\n",
       "        vertical-align: middle;\n",
       "    }\n",
       "\n",
       "    .dataframe tbody tr th {\n",
       "        vertical-align: top;\n",
       "    }\n",
       "\n",
       "    .dataframe thead th {\n",
       "        text-align: right;\n",
       "    }\n",
       "</style>\n",
       "<table border=\"1\" class=\"dataframe\">\n",
       "  <thead>\n",
       "    <tr style=\"text-align: right;\">\n",
       "      <th></th>\n",
       "      <th>Id</th>\n",
       "      <th>Contacts</th>\n",
       "      <th>duplicated_indexes</th>\n",
       "    </tr>\n",
       "  </thead>\n",
       "  <tbody>\n",
       "    <tr>\n",
       "      <th>1</th>\n",
       "      <td>1</td>\n",
       "      <td>4</td>\n",
       "      <td>1-2458-476346</td>\n",
       "    </tr>\n",
       "    <tr>\n",
       "      <th>2</th>\n",
       "      <td>2</td>\n",
       "      <td>0</td>\n",
       "      <td>2-348955</td>\n",
       "    </tr>\n",
       "    <tr>\n",
       "      <th>5</th>\n",
       "      <td>5</td>\n",
       "      <td>0</td>\n",
       "      <td>5-50</td>\n",
       "    </tr>\n",
       "    <tr>\n",
       "      <th>6</th>\n",
       "      <td>6</td>\n",
       "      <td>4</td>\n",
       "      <td>6-38-32871-142067</td>\n",
       "    </tr>\n",
       "    <tr>\n",
       "      <th>8</th>\n",
       "      <td>8</td>\n",
       "      <td>2</td>\n",
       "      <td>8-183160</td>\n",
       "    </tr>\n",
       "  </tbody>\n",
       "</table>\n",
       "</div>"
      ],
      "text/plain": [
       "  Id  Contacts duplicated_indexes\n",
       "1  1         4      1-2458-476346\n",
       "2  2         0           2-348955\n",
       "5  5         0               5-50\n",
       "6  6         4  6-38-32871-142067\n",
       "8  8         2           8-183160"
      ]
     },
     "execution_count": 112,
     "metadata": {},
     "output_type": "execute_result"
    }
   ],
   "source": [
    "multi_channel['duplicated_indexes'] = multi_channel['duplicated_indexes'].apply(lambda x: clean_duplicated_indexes(x))\n",
    "multi_channel.head()"
   ]
  },
  {
   "cell_type": "markdown",
   "metadata": {
    "id": "MG2mQ53yYpsu"
   },
   "source": [
    "### Step by Step to Create Sum of Contacts"
   ]
  },
  {
   "cell_type": "code",
   "execution_count": 113,
   "metadata": {
    "id": "SYGKso4tYfuo",
    "outputId": "f46b2377-7a1c-43d0-e37d-4ec9bb2ed5be"
   },
   "outputs": [
    {
     "data": {
      "text/plain": [
       "array(['1-2458-476346', '2-348955', '5-50', '6-38-32871-142067',\n",
       "       '8-183160'], dtype=object)"
      ]
     },
     "execution_count": 113,
     "metadata": {},
     "output_type": "execute_result"
    }
   ],
   "source": [
    "multi_channel['duplicated_indexes'].unique()[:5]"
   ]
  },
  {
   "cell_type": "code",
   "execution_count": 114,
   "metadata": {
    "id": "7uEk4X7VYzMp",
    "outputId": "f98b9a06-f6b9-47b6-e94e-f28bf456a25f"
   },
   "outputs": [
    {
     "data": {
      "text/plain": [
       "213862"
      ]
     },
     "execution_count": 114,
     "metadata": {},
     "output_type": "execute_result"
    }
   ],
   "source": [
    "unique_idxs = multi_channel['duplicated_indexes'].unique()\n",
    "len(unique_idxs)"
   ]
  },
  {
   "cell_type": "code",
   "execution_count": 115,
   "metadata": {
    "id": "eVhXuaF4Y340",
    "outputId": "ecd2006e-3f69-4e75-9ecd-f6ada0c347c4"
   },
   "outputs": [
    {
     "data": {
      "text/plain": [
       "[5, 50]"
      ]
     },
     "execution_count": 115,
     "metadata": {},
     "output_type": "execute_result"
    }
   ],
   "source": [
    "unique = unique_idxs[2]\n",
    "x = unique.split('-')\n",
    "x = list(map(int, x))\n",
    "x"
   ]
  },
  {
   "cell_type": "code",
   "execution_count": 116,
   "metadata": {
    "id": "zbN11d91ZN2r",
    "outputId": "30a490ba-3538-4280-ef02-e6eb4aa31ac3"
   },
   "outputs": [
    {
     "data": {
      "text/html": [
       "<div>\n",
       "<style scoped>\n",
       "    .dataframe tbody tr th:only-of-type {\n",
       "        vertical-align: middle;\n",
       "    }\n",
       "\n",
       "    .dataframe tbody tr th {\n",
       "        vertical-align: top;\n",
       "    }\n",
       "\n",
       "    .dataframe thead th {\n",
       "        text-align: right;\n",
       "    }\n",
       "</style>\n",
       "<table border=\"1\" class=\"dataframe\">\n",
       "  <thead>\n",
       "    <tr style=\"text-align: right;\">\n",
       "      <th></th>\n",
       "      <th>Id</th>\n",
       "      <th>Email</th>\n",
       "      <th>Phone</th>\n",
       "      <th>Contacts</th>\n",
       "      <th>OrderId</th>\n",
       "    </tr>\n",
       "  </thead>\n",
       "  <tbody>\n",
       "    <tr>\n",
       "      <th>5</th>\n",
       "      <td>5</td>\n",
       "      <td></td>\n",
       "      <td>840113148</td>\n",
       "      <td>0</td>\n",
       "      <td></td>\n",
       "    </tr>\n",
       "    <tr>\n",
       "      <th>50</th>\n",
       "      <td>50</td>\n",
       "      <td>TIMejlVYhfqjy@gmail.com</td>\n",
       "      <td>840113148</td>\n",
       "      <td>4</td>\n",
       "      <td>XBkNrwcWWslDvSQdhYPfCpQJo</td>\n",
       "    </tr>\n",
       "  </tbody>\n",
       "</table>\n",
       "</div>"
      ],
      "text/plain": [
       "    Id                    Email      Phone  Contacts  \\\n",
       "5    5                           840113148         0   \n",
       "50  50  TIMejlVYhfqjy@gmail.com  840113148         4   \n",
       "\n",
       "                      OrderId  \n",
       "5                              \n",
       "50  XBkNrwcWWslDvSQdhYPfCpQJo  "
      ]
     },
     "execution_count": 116,
     "metadata": {},
     "output_type": "execute_result"
    }
   ],
   "source": [
    "# Check in original df\n",
    "df[df.index.isin([5, 50])]"
   ]
  },
  {
   "cell_type": "code",
   "execution_count": 117,
   "metadata": {
    "id": "2jdCtAh4Zja6",
    "outputId": "7550b7d5-8166-4200-e7b5-5e30ccf78911"
   },
   "outputs": [
    {
     "data": {
      "text/plain": [
       "4"
      ]
     },
     "execution_count": 117,
     "metadata": {},
     "output_type": "execute_result"
    }
   ],
   "source": [
    "df.loc[50, 'Contacts']"
   ]
  },
  {
   "cell_type": "code",
   "execution_count": 118,
   "metadata": {
    "id": "PFAUVrnrZYox",
    "outputId": "f4f0ed2b-4e8a-47ee-f9cb-b92b35b65beb"
   },
   "outputs": [
    {
     "data": {
      "text/plain": [
       "4"
      ]
     },
     "execution_count": 118,
     "metadata": {},
     "output_type": "execute_result"
    }
   ],
   "source": [
    "sum_contacts = 0\n",
    "\n",
    "for idx in x:\n",
    "    contacts = df.loc[idx, 'Contacts']\n",
    "    sum_contacts += contacts\n",
    "\n",
    "sum_contacts"
   ]
  },
  {
   "cell_type": "code",
   "execution_count": 119,
   "metadata": {
    "id": "rH-T3mlEZt6L",
    "outputId": "f7dc829b-d43b-4dc0-cf36-9a85d5948c7a"
   },
   "outputs": [
    {
     "data": {
      "text/plain": [
       "{'5-50': 4}"
      ]
     },
     "execution_count": 119,
     "metadata": {},
     "output_type": "execute_result"
    }
   ],
   "source": [
    "# Create dictionary with unique_idxs as a key\n",
    "sum_contacts_dict = {}\n",
    "sum_contacts_dict[unique] = sum_contacts\n",
    "sum_contacts_dict"
   ]
  },
  {
   "cell_type": "markdown",
   "metadata": {
    "id": "fpH9n3-1aPM8"
   },
   "source": [
    "### Function to Create Sum of Contacts"
   ]
  },
  {
   "cell_type": "code",
   "execution_count": 120,
   "metadata": {
    "id": "YLVcoSLQZ9xc",
    "outputId": "86f94942-2653-48a5-d2bf-949f53af2d9a"
   },
   "outputs": [
    {
     "data": {
      "text/plain": [
       "213862"
      ]
     },
     "execution_count": 120,
     "metadata": {},
     "output_type": "execute_result"
    }
   ],
   "source": [
    "unique_idxs = multi_channel['duplicated_indexes'].unique()\n",
    "len(unique_idxs)"
   ]
  },
  {
   "cell_type": "code",
   "execution_count": 121,
   "metadata": {
    "id": "iH1qMDPOaZBG"
   },
   "outputs": [],
   "source": [
    "sum_contacts_dict = {}\n",
    "\n",
    "for unique in unique_idxs:\n",
    "    idx_list = unique.split('-')\n",
    "    idx_list = list(map(int, idx_list))\n",
    "\n",
    "    sum_contacts = 0\n",
    "\n",
    "    for idx in idx_list:\n",
    "        contacts = df.loc[idx, 'Contacts']\n",
    "        sum_contacts += contacts\n",
    "\n",
    "    sum_contacts_dict[unique] = sum_contacts"
   ]
  },
  {
   "cell_type": "code",
   "execution_count": 122,
   "metadata": {
    "id": "7EvK6UHtae0q",
    "outputId": "b8b1a27a-8db1-480d-f03e-19dca1d7679e"
   },
   "outputs": [
    {
     "data": {
      "text/plain": [
       "213862"
      ]
     },
     "execution_count": 122,
     "metadata": {},
     "output_type": "execute_result"
    }
   ],
   "source": [
    "len(sum_contacts_dict)"
   ]
  },
  {
   "cell_type": "code",
   "execution_count": 123,
   "metadata": {
    "id": "PRehUo4abn4j",
    "outputId": "95dc7bba-1859-44d0-da38-c880062bdf66"
   },
   "outputs": [
    {
     "data": {
      "text/html": [
       "<div>\n",
       "<style scoped>\n",
       "    .dataframe tbody tr th:only-of-type {\n",
       "        vertical-align: middle;\n",
       "    }\n",
       "\n",
       "    .dataframe tbody tr th {\n",
       "        vertical-align: top;\n",
       "    }\n",
       "\n",
       "    .dataframe thead th {\n",
       "        text-align: right;\n",
       "    }\n",
       "</style>\n",
       "<table border=\"1\" class=\"dataframe\">\n",
       "  <thead>\n",
       "    <tr style=\"text-align: right;\">\n",
       "      <th></th>\n",
       "      <th>Id</th>\n",
       "      <th>Contacts</th>\n",
       "      <th>duplicated_indexes</th>\n",
       "      <th>sum_contacts</th>\n",
       "    </tr>\n",
       "  </thead>\n",
       "  <tbody>\n",
       "    <tr>\n",
       "      <th>1</th>\n",
       "      <td>1</td>\n",
       "      <td>4</td>\n",
       "      <td>1-2458-476346</td>\n",
       "      <td>5</td>\n",
       "    </tr>\n",
       "    <tr>\n",
       "      <th>2</th>\n",
       "      <td>2</td>\n",
       "      <td>0</td>\n",
       "      <td>2-348955</td>\n",
       "      <td>0</td>\n",
       "    </tr>\n",
       "    <tr>\n",
       "      <th>5</th>\n",
       "      <td>5</td>\n",
       "      <td>0</td>\n",
       "      <td>5-50</td>\n",
       "      <td>4</td>\n",
       "    </tr>\n",
       "    <tr>\n",
       "      <th>6</th>\n",
       "      <td>6</td>\n",
       "      <td>4</td>\n",
       "      <td>6-38-32871-142067</td>\n",
       "      <td>10</td>\n",
       "    </tr>\n",
       "    <tr>\n",
       "      <th>8</th>\n",
       "      <td>8</td>\n",
       "      <td>2</td>\n",
       "      <td>8-183160</td>\n",
       "      <td>5</td>\n",
       "    </tr>\n",
       "  </tbody>\n",
       "</table>\n",
       "</div>"
      ],
      "text/plain": [
       "  Id  Contacts duplicated_indexes  sum_contacts\n",
       "1  1         4      1-2458-476346             5\n",
       "2  2         0           2-348955             0\n",
       "5  5         0               5-50             4\n",
       "6  6         4  6-38-32871-142067            10\n",
       "8  8         2           8-183160             5"
      ]
     },
     "execution_count": 123,
     "metadata": {},
     "output_type": "execute_result"
    }
   ],
   "source": [
    "multi_channel['sum_contacts'] = multi_channel['duplicated_indexes'].map(sum_contacts_dict)\n",
    "multi_channel.head()"
   ]
  },
  {
   "cell_type": "code",
   "execution_count": 124,
   "metadata": {
    "id": "mj-faYTqb2Pg",
    "outputId": "0c7e213b-1d7b-4ec8-8daa-9ad3b7208812"
   },
   "outputs": [
    {
     "data": {
      "text/html": [
       "<div>\n",
       "<style scoped>\n",
       "    .dataframe tbody tr th:only-of-type {\n",
       "        vertical-align: middle;\n",
       "    }\n",
       "\n",
       "    .dataframe tbody tr th {\n",
       "        vertical-align: top;\n",
       "    }\n",
       "\n",
       "    .dataframe thead th {\n",
       "        text-align: right;\n",
       "    }\n",
       "</style>\n",
       "<table border=\"1\" class=\"dataframe\">\n",
       "  <thead>\n",
       "    <tr style=\"text-align: right;\">\n",
       "      <th></th>\n",
       "      <th>Id</th>\n",
       "      <th>trace</th>\n",
       "    </tr>\n",
       "  </thead>\n",
       "  <tbody>\n",
       "    <tr>\n",
       "      <th>1</th>\n",
       "      <td>1</td>\n",
       "      <td>1-2458-476346, 5</td>\n",
       "    </tr>\n",
       "    <tr>\n",
       "      <th>2</th>\n",
       "      <td>2</td>\n",
       "      <td>2-348955, 0</td>\n",
       "    </tr>\n",
       "    <tr>\n",
       "      <th>5</th>\n",
       "      <td>5</td>\n",
       "      <td>5-50, 4</td>\n",
       "    </tr>\n",
       "    <tr>\n",
       "      <th>6</th>\n",
       "      <td>6</td>\n",
       "      <td>6-38-32871-142067, 10</td>\n",
       "    </tr>\n",
       "    <tr>\n",
       "      <th>8</th>\n",
       "      <td>8</td>\n",
       "      <td>8-183160, 5</td>\n",
       "    </tr>\n",
       "  </tbody>\n",
       "</table>\n",
       "</div>"
      ],
      "text/plain": [
       "  Id                  trace\n",
       "1  1       1-2458-476346, 5\n",
       "2  2            2-348955, 0\n",
       "5  5                5-50, 4\n",
       "6  6  6-38-32871-142067, 10\n",
       "8  8            8-183160, 5"
      ]
     },
     "execution_count": 124,
     "metadata": {},
     "output_type": "execute_result"
    }
   ],
   "source": [
    "multi_channel['sum_contacts'] = multi_channel['sum_contacts'].astype(str)\n",
    "multi_channel['trace'] = multi_channel['duplicated_indexes'] + ', ' + multi_channel['sum_contacts']\n",
    "multi_channel = multi_channel[['Id', 'trace']]\n",
    "multi_channel.head()"
   ]
  },
  {
   "cell_type": "markdown",
   "metadata": {
    "id": "xSLsKeDzcQNP"
   },
   "source": [
    "# Create Submission"
   ]
  },
  {
   "cell_type": "code",
   "execution_count": 125,
   "metadata": {
    "id": "H0KPXA58cHLW",
    "outputId": "0607479c-a3fa-4a76-e444-6c6c748783b1"
   },
   "outputs": [
    {
     "data": {
      "text/html": [
       "<div>\n",
       "<style scoped>\n",
       "    .dataframe tbody tr th:only-of-type {\n",
       "        vertical-align: middle;\n",
       "    }\n",
       "\n",
       "    .dataframe tbody tr th {\n",
       "        vertical-align: top;\n",
       "    }\n",
       "\n",
       "    .dataframe thead th {\n",
       "        text-align: right;\n",
       "    }\n",
       "</style>\n",
       "<table border=\"1\" class=\"dataframe\">\n",
       "  <thead>\n",
       "    <tr style=\"text-align: right;\">\n",
       "      <th></th>\n",
       "      <th>Id</th>\n",
       "      <th>trace</th>\n",
       "    </tr>\n",
       "  </thead>\n",
       "  <tbody>\n",
       "    <tr>\n",
       "      <th>0</th>\n",
       "      <td>0</td>\n",
       "      <td>0, 1</td>\n",
       "    </tr>\n",
       "    <tr>\n",
       "      <th>1</th>\n",
       "      <td>1</td>\n",
       "      <td>1-2458-476346, 5</td>\n",
       "    </tr>\n",
       "    <tr>\n",
       "      <th>2</th>\n",
       "      <td>2</td>\n",
       "      <td>2-348955, 0</td>\n",
       "    </tr>\n",
       "    <tr>\n",
       "      <th>3</th>\n",
       "      <td>3</td>\n",
       "      <td>3, 0</td>\n",
       "    </tr>\n",
       "    <tr>\n",
       "      <th>4</th>\n",
       "      <td>4</td>\n",
       "      <td>4, 2</td>\n",
       "    </tr>\n",
       "  </tbody>\n",
       "</table>\n",
       "</div>"
      ],
      "text/plain": [
       "   Id             trace\n",
       "0   0              0, 1\n",
       "1   1  1-2458-476346, 5\n",
       "2   2       2-348955, 0\n",
       "3   3              3, 0\n",
       "4   4              4, 2"
      ]
     },
     "execution_count": 125,
     "metadata": {},
     "output_type": "execute_result"
    }
   ],
   "source": [
    "final_df = pd.concat([single_channel, multi_channel])\n",
    "final_df['Id'] = final_df['Id'].astype(int)\n",
    "final_df.sort_values('Id', inplace=True)\n",
    "final_df.head()"
   ]
  },
  {
   "cell_type": "code",
   "execution_count": 126,
   "metadata": {
    "id": "BzgBs9z9cc3F",
    "outputId": "bb37016f-0dcc-4434-9abd-1d248a13c9a2"
   },
   "outputs": [
    {
     "name": "stdout",
     "output_type": "stream",
     "text": [
      "(500000, 2)\n"
     ]
    },
    {
     "data": {
      "text/html": [
       "<div>\n",
       "<style scoped>\n",
       "    .dataframe tbody tr th:only-of-type {\n",
       "        vertical-align: middle;\n",
       "    }\n",
       "\n",
       "    .dataframe tbody tr th {\n",
       "        vertical-align: top;\n",
       "    }\n",
       "\n",
       "    .dataframe thead th {\n",
       "        text-align: right;\n",
       "    }\n",
       "</style>\n",
       "<table border=\"1\" class=\"dataframe\">\n",
       "  <thead>\n",
       "    <tr style=\"text-align: right;\">\n",
       "      <th></th>\n",
       "      <th>ticket_id</th>\n",
       "      <th>ticket_trace/contact</th>\n",
       "    </tr>\n",
       "  </thead>\n",
       "  <tbody>\n",
       "    <tr>\n",
       "      <th>0</th>\n",
       "      <td>0</td>\n",
       "      <td>0, 1</td>\n",
       "    </tr>\n",
       "    <tr>\n",
       "      <th>1</th>\n",
       "      <td>1</td>\n",
       "      <td>1-2458-476346, 5</td>\n",
       "    </tr>\n",
       "    <tr>\n",
       "      <th>2</th>\n",
       "      <td>2</td>\n",
       "      <td>2-348955, 0</td>\n",
       "    </tr>\n",
       "    <tr>\n",
       "      <th>3</th>\n",
       "      <td>3</td>\n",
       "      <td>3, 0</td>\n",
       "    </tr>\n",
       "    <tr>\n",
       "      <th>4</th>\n",
       "      <td>4</td>\n",
       "      <td>4, 2</td>\n",
       "    </tr>\n",
       "    <tr>\n",
       "      <th>5</th>\n",
       "      <td>5</td>\n",
       "      <td>5-50, 4</td>\n",
       "    </tr>\n",
       "    <tr>\n",
       "      <th>6</th>\n",
       "      <td>6</td>\n",
       "      <td>6-38-32871-142067, 10</td>\n",
       "    </tr>\n",
       "    <tr>\n",
       "      <th>7</th>\n",
       "      <td>7</td>\n",
       "      <td>7, 1</td>\n",
       "    </tr>\n",
       "    <tr>\n",
       "      <th>8</th>\n",
       "      <td>8</td>\n",
       "      <td>8-183160, 5</td>\n",
       "    </tr>\n",
       "    <tr>\n",
       "      <th>9</th>\n",
       "      <td>9</td>\n",
       "      <td>9-13-343161, 1</td>\n",
       "    </tr>\n",
       "    <tr>\n",
       "      <th>10</th>\n",
       "      <td>10</td>\n",
       "      <td>10-93270, 7</td>\n",
       "    </tr>\n",
       "    <tr>\n",
       "      <th>11</th>\n",
       "      <td>11</td>\n",
       "      <td>11-244207, 3</td>\n",
       "    </tr>\n",
       "    <tr>\n",
       "      <th>12</th>\n",
       "      <td>12</td>\n",
       "      <td>12-480595, 4</td>\n",
       "    </tr>\n",
       "    <tr>\n",
       "      <th>13</th>\n",
       "      <td>13</td>\n",
       "      <td>9-13-16708-343161-417916, 5</td>\n",
       "    </tr>\n",
       "    <tr>\n",
       "      <th>14</th>\n",
       "      <td>14</td>\n",
       "      <td>14-323910, 6</td>\n",
       "    </tr>\n",
       "    <tr>\n",
       "      <th>15</th>\n",
       "      <td>15</td>\n",
       "      <td>15-17-21197, 11</td>\n",
       "    </tr>\n",
       "    <tr>\n",
       "      <th>16</th>\n",
       "      <td>16</td>\n",
       "      <td>16, 0</td>\n",
       "    </tr>\n",
       "    <tr>\n",
       "      <th>17</th>\n",
       "      <td>17</td>\n",
       "      <td>15-17-21197, 11</td>\n",
       "    </tr>\n",
       "    <tr>\n",
       "      <th>18</th>\n",
       "      <td>18</td>\n",
       "      <td>18-274269-327057, 5</td>\n",
       "    </tr>\n",
       "    <tr>\n",
       "      <th>19</th>\n",
       "      <td>19</td>\n",
       "      <td>19-406780, 1</td>\n",
       "    </tr>\n",
       "  </tbody>\n",
       "</table>\n",
       "</div>"
      ],
      "text/plain": [
       "    ticket_id         ticket_trace/contact\n",
       "0           0                         0, 1\n",
       "1           1             1-2458-476346, 5\n",
       "2           2                  2-348955, 0\n",
       "3           3                         3, 0\n",
       "4           4                         4, 2\n",
       "5           5                      5-50, 4\n",
       "6           6        6-38-32871-142067, 10\n",
       "7           7                         7, 1\n",
       "8           8                  8-183160, 5\n",
       "9           9               9-13-343161, 1\n",
       "10         10                  10-93270, 7\n",
       "11         11                 11-244207, 3\n",
       "12         12                 12-480595, 4\n",
       "13         13  9-13-16708-343161-417916, 5\n",
       "14         14                 14-323910, 6\n",
       "15         15              15-17-21197, 11\n",
       "16         16                        16, 0\n",
       "17         17              15-17-21197, 11\n",
       "18         18          18-274269-327057, 5\n",
       "19         19                 19-406780, 1"
      ]
     },
     "execution_count": 126,
     "metadata": {},
     "output_type": "execute_result"
    }
   ],
   "source": [
    "final_df.rename(columns={\"Id\": \"ticket_id\", \"trace\": \"ticket_trace/contact\"}, inplace=True)\n",
    "print(final_df.shape)\n",
    "final_df.head(20)"
   ]
  },
  {
   "cell_type": "code",
   "execution_count": 127,
   "metadata": {
    "id": "My0ojPx1cjqM"
   },
   "outputs": [],
   "source": [
    "final_df.to_csv('Data Analytics/multi-channel-contacts-submission.csv', index=False)"
   ]
  },
  {
   "cell_type": "code",
   "execution_count": 128,
   "metadata": {
    "id": "RQ8qDVoUdz7D",
    "outputId": "e6a4f208-79d2-447f-a50c-1ece21fc37e0"
   },
   "outputs": [
    {
     "name": "stdout",
     "output_type": "stream",
     "text": [
      "Notebook total running time:  14.21  seconds\n"
     ]
    }
   ],
   "source": [
    "t1 = time.time()\n",
    "total = t1-t0\n",
    "print(\"Notebook total running time: \", round(total, 2), \" seconds\")"
   ]
  },
  {
   "cell_type": "markdown",
   "metadata": {
    "id": "dkYBXSvOcuKw"
   },
   "source": [
    "## Test Case"
   ]
  },
  {
   "cell_type": "code",
   "execution_count": 129,
   "metadata": {
    "id": "aAVCn0hqcs-b",
    "outputId": "3049eac2-65b4-486d-d802-b30a92d07aba"
   },
   "outputs": [
    {
     "data": {
      "text/plain": [
       "'9-13-16708-343161-417916, 5'"
      ]
     },
     "execution_count": 129,
     "metadata": {},
     "output_type": "execute_result"
    }
   ],
   "source": [
    "final_df['ticket_trace/contact'][13]"
   ]
  },
  {
   "cell_type": "code",
   "execution_count": 130,
   "metadata": {
    "id": "iKOgV6NQc2SF",
    "outputId": "d9ffdc07-10e1-4ae8-aa85-51e4f0412544"
   },
   "outputs": [
    {
     "data": {
      "text/html": [
       "<div>\n",
       "<style scoped>\n",
       "    .dataframe tbody tr th:only-of-type {\n",
       "        vertical-align: middle;\n",
       "    }\n",
       "\n",
       "    .dataframe tbody tr th {\n",
       "        vertical-align: top;\n",
       "    }\n",
       "\n",
       "    .dataframe thead th {\n",
       "        text-align: right;\n",
       "    }\n",
       "</style>\n",
       "<table border=\"1\" class=\"dataframe\">\n",
       "  <thead>\n",
       "    <tr style=\"text-align: right;\">\n",
       "      <th></th>\n",
       "      <th>Id</th>\n",
       "      <th>Email</th>\n",
       "      <th>Phone</th>\n",
       "      <th>Contacts</th>\n",
       "      <th>OrderId</th>\n",
       "    </tr>\n",
       "  </thead>\n",
       "  <tbody>\n",
       "    <tr>\n",
       "      <th>9</th>\n",
       "      <td>9</td>\n",
       "      <td>osIIQgAiZX@hotmail.com</td>\n",
       "      <td></td>\n",
       "      <td>0</td>\n",
       "      <td>IqewrMXVTJqSsVklWFfOpdRNI</td>\n",
       "    </tr>\n",
       "    <tr>\n",
       "      <th>13</th>\n",
       "      <td>13</td>\n",
       "      <td>YsKhkKGJoQSNniHcr@yahoo.com</td>\n",
       "      <td>562300766</td>\n",
       "      <td>1</td>\n",
       "      <td>IqewrMXVTJqSsVklWFfOpdRNI</td>\n",
       "    </tr>\n",
       "    <tr>\n",
       "      <th>16708</th>\n",
       "      <td>16708</td>\n",
       "      <td>baztAgq@gmail.com</td>\n",
       "      <td>562300766</td>\n",
       "      <td>1</td>\n",
       "      <td>uZmSoONExsyEvZXwPAaRwTBzJ</td>\n",
       "    </tr>\n",
       "    <tr>\n",
       "      <th>343161</th>\n",
       "      <td>343161</td>\n",
       "      <td></td>\n",
       "      <td>6019130221</td>\n",
       "      <td>0</td>\n",
       "      <td>IqewrMXVTJqSsVklWFfOpdRNI</td>\n",
       "    </tr>\n",
       "    <tr>\n",
       "      <th>417916</th>\n",
       "      <td>417916</td>\n",
       "      <td>YsKhkKGJoQSNniHcr@yahoo.com</td>\n",
       "      <td></td>\n",
       "      <td>3</td>\n",
       "      <td>lTFWCsPHyXciSbwCenwkNXOlv</td>\n",
       "    </tr>\n",
       "  </tbody>\n",
       "</table>\n",
       "</div>"
      ],
      "text/plain": [
       "            Id                        Email       Phone  Contacts  \\\n",
       "9            9       osIIQgAiZX@hotmail.com                     0   \n",
       "13          13  YsKhkKGJoQSNniHcr@yahoo.com   562300766         1   \n",
       "16708    16708            baztAgq@gmail.com   562300766         1   \n",
       "343161  343161                               6019130221         0   \n",
       "417916  417916  YsKhkKGJoQSNniHcr@yahoo.com                     3   \n",
       "\n",
       "                          OrderId  \n",
       "9       IqewrMXVTJqSsVklWFfOpdRNI  \n",
       "13      IqewrMXVTJqSsVklWFfOpdRNI  \n",
       "16708   uZmSoONExsyEvZXwPAaRwTBzJ  \n",
       "343161  IqewrMXVTJqSsVklWFfOpdRNI  \n",
       "417916  lTFWCsPHyXciSbwCenwkNXOlv  "
      ]
     },
     "execution_count": 130,
     "metadata": {},
     "output_type": "execute_result"
    }
   ],
   "source": [
    "df[df.index.isin([9, 13, 16708, 343161, 417916])]"
   ]
  },
  {
   "cell_type": "code",
   "execution_count": 131,
   "metadata": {
    "id": "8XnaLucTc7h8",
    "outputId": "9a9793a6-1dd4-4769-ba98-2c58c755eae4"
   },
   "outputs": [
    {
     "data": {
      "text/plain": [
       "'18-274269-327057, 5'"
      ]
     },
     "execution_count": 131,
     "metadata": {},
     "output_type": "execute_result"
    }
   ],
   "source": [
    "final_df['ticket_trace/contact'][18]"
   ]
  },
  {
   "cell_type": "code",
   "execution_count": 132,
   "metadata": {
    "id": "M0CS9QUfdPut",
    "outputId": "eae3b59f-5946-4606-af8f-2818df60e2e8"
   },
   "outputs": [
    {
     "data": {
      "text/html": [
       "<div>\n",
       "<style scoped>\n",
       "    .dataframe tbody tr th:only-of-type {\n",
       "        vertical-align: middle;\n",
       "    }\n",
       "\n",
       "    .dataframe tbody tr th {\n",
       "        vertical-align: top;\n",
       "    }\n",
       "\n",
       "    .dataframe thead th {\n",
       "        text-align: right;\n",
       "    }\n",
       "</style>\n",
       "<table border=\"1\" class=\"dataframe\">\n",
       "  <thead>\n",
       "    <tr style=\"text-align: right;\">\n",
       "      <th></th>\n",
       "      <th>Id</th>\n",
       "      <th>Email</th>\n",
       "      <th>Phone</th>\n",
       "      <th>Contacts</th>\n",
       "      <th>OrderId</th>\n",
       "    </tr>\n",
       "  </thead>\n",
       "  <tbody>\n",
       "    <tr>\n",
       "      <th>18</th>\n",
       "      <td>18</td>\n",
       "      <td>qOkuzhOuPsbltatw@qq.com</td>\n",
       "      <td></td>\n",
       "      <td>4</td>\n",
       "      <td>zSekjOkRLyiGjvOPikTKwksFK</td>\n",
       "    </tr>\n",
       "    <tr>\n",
       "      <th>274269</th>\n",
       "      <td>274269</td>\n",
       "      <td>tndZkvBDwg@gmail.com</td>\n",
       "      <td>66873440472</td>\n",
       "      <td>0</td>\n",
       "      <td>zSekjOkRLyiGjvOPikTKwksFK</td>\n",
       "    </tr>\n",
       "    <tr>\n",
       "      <th>327057</th>\n",
       "      <td>327057</td>\n",
       "      <td>sjoEThSNaVBlYk@gmail.com</td>\n",
       "      <td></td>\n",
       "      <td>1</td>\n",
       "      <td>zSekjOkRLyiGjvOPikTKwksFK</td>\n",
       "    </tr>\n",
       "  </tbody>\n",
       "</table>\n",
       "</div>"
      ],
      "text/plain": [
       "            Id                     Email        Phone  Contacts  \\\n",
       "18          18   qOkuzhOuPsbltatw@qq.com                      4   \n",
       "274269  274269      tndZkvBDwg@gmail.com  66873440472         0   \n",
       "327057  327057  sjoEThSNaVBlYk@gmail.com                      1   \n",
       "\n",
       "                          OrderId  \n",
       "18      zSekjOkRLyiGjvOPikTKwksFK  \n",
       "274269  zSekjOkRLyiGjvOPikTKwksFK  \n",
       "327057  zSekjOkRLyiGjvOPikTKwksFK  "
      ]
     },
     "execution_count": 132,
     "metadata": {},
     "output_type": "execute_result"
    }
   ],
   "source": [
    "df[df.index.isin([18, 274269, 327057])]"
   ]
  }
 ],
 "metadata": {
  "kernelspec": {
   "display_name": "Python 3",
   "language": "python",
   "name": "python3"
  },
  "language_info": {
   "codemirror_mode": {
    "name": "ipython",
    "version": 3
   },
   "file_extension": ".py",
   "mimetype": "text/x-python",
   "name": "python",
   "nbconvert_exporter": "python",
   "pygments_lexer": "ipython3",
   "version": "3.8.5"
  }
 },
 "nbformat": 4,
 "nbformat_minor": 4
}
